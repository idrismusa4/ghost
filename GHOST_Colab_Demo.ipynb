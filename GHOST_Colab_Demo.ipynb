{
  "cells": [
    {
      "cell_type": "markdown",
      "metadata": {},
      "source": [
        "# \ud83d\udc7b GHOST Face Swapping \u2014 Google Colab Notebook\n",
        "\n",
        "This notebook sets up the GHOST face swapping pipeline on Google Colab.\n",
        "It follows the CPU/GPU-compatible code path from the latest repository version.\n"
      ]
    },
    {
      "cell_type": "markdown",
      "metadata": {},
      "source": [
        "## \u26a0\ufe0f Ethical Use Only\n",
        "Use this software responsibly and with consent from all parties involved.\n",
        "Do not generate or share deceptive or harmful content.\n"
      ]
    },
    {
      "cell_type": "markdown",
      "metadata": {},
      "source": [
        "## 1\ufe0f\u20e3 Check GPU & Python Runtime\n",
        "Verify that Google Colab is running with GPU acceleration (Runtime \u2192 Change runtime type \u2192 GPU).\n"
      ]
    },
    {
      "cell_type": "code",
      "metadata": {},
      "execution_count": null,
      "outputs": [],
      "source": [
        "!nvidia-smi || echo '\u26a0\ufe0f GPU not available. Falling back to CPU.'\n",
        "import sys\n",
        "print(f\"Python version: {sys.version}\")\n"
      ]
    },
    {
      "cell_type": "markdown",
      "metadata": {},
      "source": [
        "## 2\ufe0f\u20e3 Clone the Repository\n",
        "Update the `REPO_URL` if you are testing a fork or a specific branch.\n"
      ]
    },
    {
      "cell_type": "code",
      "metadata": {},
      "execution_count": null,
      "outputs": [],
      "source": [
        "import os\n",
        "REPO_URL = \"https://github.com/idrismusa4/ghost.git\"  # Replace with your fork if needed\n",
        "BRANCH = \"main\"  # Set to the branch or tag you want to test\n",
        "PROJECT_DIR = \"/content/ghost\"\n",
        "\n",
        "if os.path.exists(PROJECT_DIR):\n",
        "    !rm -rf \"{PROJECT_DIR}\"\n",
        "\n",
        "!git clone --depth 1 --branch \"$BRANCH\" \"$REPO_URL\" \"$PROJECT_DIR\"\n",
        "%cd \"$PROJECT_DIR\"\n"
      ]
    },
    {
      "cell_type": "markdown",
      "metadata": {},
      "source": [
        "## 3\ufe0f\u20e3 Install Dependencies\n",
        "PyTorch wheels with CUDA support are installed explicitly; the rest come from `requirements.txt`.\n"
      ]
    },
    {
      "cell_type": "code",
      "metadata": {},
      "execution_count": null,
      "outputs": [],
      "source": [
        "!pip install -q --upgrade pip\n",
        "!pip install -q --extra-index-url https://download.pytorch.org/whl/cu118     torch==2.1.2 torchvision==0.16.2 torchaudio==2.1.2\n",
        "!pip install -q -r requirements.txt\n"
      ]
    },
    {
      "cell_type": "markdown",
      "metadata": {},
      "source": [
        "## 4\ufe0f\u20e3 Download Pretrained Weights\n",
        "Run the helper script to fetch ArcFace, landmark detectors, generator/discriminator weights, and the super-resolution model.\n"
      ]
    },
    {
      "cell_type": "code",
      "metadata": {},
      "execution_count": null,
      "outputs": [],
      "source": [
        "!bash download_models.sh\n"
      ]
    },
    {
      "cell_type": "markdown",
      "metadata": {},
      "source": [
        "## 5\ufe0f\u20e3 Prepare Your Inputs\n",
        "Upload a **source** face image and a **target** image or video.\n",
        "Files are saved under the `input/` directory and their paths are recorded for later steps.\n"
      ]
    },
    {
      "cell_type": "code",
      "metadata": {},
      "execution_count": null,
      "outputs": [],
      "source": [
        "from google.colab import files\n",
        "import os\n",
        "\n",
        "os.makedirs('input', exist_ok=True)\n",
        "\n",
        "print('\ud83d\udce4 Upload the SOURCE face image:')\n",
        "source_upload = files.upload()\n",
        "source_name = next(iter(source_upload))\n",
        "source_ext = os.path.splitext(source_name)[1] or '.jpg'\n",
        "source_path = os.path.join('input', f'source{source_ext}')\n",
        "os.replace(source_name, source_path)\n",
        "\n",
        "print('\n",
        "\ud83d\udce4 Upload the TARGET image or video:')\n",
        "target_upload = files.upload()\n",
        "target_name = next(iter(target_upload))\n",
        "target_ext = os.path.splitext(target_name)[1] or '.jpg'\n",
        "target_path = os.path.join('input', f'target{target_ext}')\n",
        "os.replace(target_name, target_path)\n",
        "\n",
        "with open('source_path.txt', 'w') as f:\n",
        "    f.write(source_path)\n",
        "with open('target_path.txt', 'w') as f:\n",
        "    f.write(target_path)\n",
        "\n",
        "print(f'\n",
        "\u2705 Source saved to: {source_path}')\n",
        "print(f'\u2705 Target saved to: {target_path}')\n"
      ]
    },
    {
      "cell_type": "markdown",
      "metadata": {},
      "source": [
        "## 6\ufe0f\u20e3 Run Image-to-Image Face Swap\n",
        "This cell runs only when the uploaded target is an image.\n",
        "`--device cuda` will use the GPU; switch to `cpu` if needed.\n"
      ]
    },
    {
      "cell_type": "code",
      "metadata": {},
      "execution_count": null,
      "outputs": [],
      "source": [
        "import os, subprocess, shlex\n",
        "\n",
        "with open('source_path.txt') as f:\n",
        "    source_path = f.read().strip()\n",
        "with open('target_path.txt') as f:\n",
        "    target_path = f.read().strip()\n",
        "\n",
        "image_exts = {'.png', '.jpg', '.jpeg', '.bmp'}\n",
        "if os.path.splitext(target_path)[1].lower() in image_exts:\n",
        "    os.makedirs('output', exist_ok=True)\n",
        "    cmd = [\n",
        "        'python', 'inference.py',\n",
        "        '--image_to_image', 'True',\n",
        "        '--target_image', target_path,\n",
        "        '--source_paths', source_path,\n",
        "        '--out_image_name', 'output/result_image.png',\n",
        "        '--device', 'cuda',\n",
        "        '--batch_size', '4'\n",
        "    ]\n",
        "    print('Running command:', ' '.join(shlex.quote(part) for part in cmd))\n",
        "    subprocess.run(cmd, check=True)\n",
        "else:\n",
        "    print('\u2139\ufe0f Target file is not an image. Skip this cell or upload an image target.')\n"
      ]
    },
    {
      "cell_type": "markdown",
      "metadata": {},
      "source": [
        "## 7\ufe0f\u20e3 Run Image-to-Video Face Swap\n",
        "This cell triggers when the target is a video file. Adjust `--frame_processor` arguments if you want masking or enhancement.\n"
      ]
    },
    {
      "cell_type": "code",
      "metadata": {},
      "execution_count": null,
      "outputs": [],
      "source": [
        "import os, subprocess, shlex\n",
        "\n",
        "with open('source_path.txt') as f:\n",
        "    source_path = f.read().strip()\n",
        "with open('target_path.txt') as f:\n",
        "    target_path = f.read().strip()\n",
        "\n",
        "video_exts = {'.mp4', '.mov', '.mkv', '.avi', '.webm'}\n",
        "if os.path.splitext(target_path)[1].lower() in video_exts:\n",
        "    os.makedirs('output', exist_ok=True)\n",
        "    cmd = [\n",
        "        'python', 'inference.py',\n",
        "        '--image_to_image', 'False',\n",
        "        '--target_video', target_path,\n",
        "        '--source_paths', source_path,\n",
        "        '--output_path', 'output/result_video.mp4',\n",
        "        '--device', 'cuda',\n",
        "        '--batch_size', '4',\n",
        "        '--keep_audio', 'True'\n",
        "    ]\n",
        "    print('Running command:', ' '.join(shlex.quote(part) for part in cmd))\n",
        "    subprocess.run(cmd, check=True)\n",
        "else:\n",
        "    print('\u2139\ufe0f Target file is not a recognised video. Skip this cell or upload a video target.')\n"
      ]
    },
    {
      "cell_type": "markdown",
      "metadata": {},
      "source": [
        "## 8\ufe0f\u20e3 Preview & Download Results\n",
        "List generated outputs, display images inline, and preview MP4 videos directly in Colab.\n"
      ]
    },
    {
      "cell_type": "code",
      "metadata": {},
      "execution_count": null,
      "outputs": [],
      "source": [
        "import os\n",
        "from IPython.display import Image, display, HTML\n",
        "from base64 import b64encode\n",
        "\n",
        "if not os.path.exists('output'):\n",
        "    print('No output directory found yet. Run the inference cells first.')\n",
        "else:\n",
        "    files = os.listdir('output')\n",
        "    if not files:\n",
        "        print('The output directory is empty.')\n",
        "    else:\n",
        "        print('Output directory contents:')\n",
        "        for name in files:\n",
        "            print('-', name)\n",
        "        for name in files:\n",
        "            path = os.path.join('output', name)\n",
        "            if name.lower().endswith((\".png\", \".jpg\", \".jpeg\")):\n",
        "                print(f\"\\n\ud83d\uddbc Displaying {name}\")\n",
        "                display(Image(filename=path))\n",
        "            elif name.lower().endswith('.mp4'):\n",
        "                print(f\"\\n\ud83c\udfac Previewing {name}\")\n",
        "                data_url = \"data:video/mp4;base64,\" + b64encode(open(path, 'rb').read()).decode()\n",
        "                display(HTML(f\"<video width=640 controls><source src='{data_url}' type='video/mp4'></video>\"))\n"
      ]
    },
    {
      "cell_type": "markdown",
      "metadata": {},
      "source": [
        "## 9\ufe0f\u20e3 (Optional) Download Outputs Locally\n",
        "Run this cell to download generated files to your machine.\n"
      ]
    },
    {
      "cell_type": "code",
      "metadata": {},
      "execution_count": null,
      "outputs": [],
      "source": [
        "import os\n",
        "from google.colab import files\n",
        "\n",
        "if os.path.exists('output'):\n",
        "    for name in os.listdir('output'):\n",
        "        path = os.path.join('output', name)\n",
        "        if os.path.isfile(path):\n",
        "            files.download(path)\n",
        "else:\n",
        "    print('No output directory found yet.')\n"
      ]
    }
  ],
  "metadata": {
    "colab": {
      "name": "GHOST_Face_Swap.ipynb",
      "provenance": []
    },
    "kernelspec": {
      "display_name": "Python 3",
      "language": "python",
      "name": "python3"
    },
    "language_info": {
      "name": "python"
    }
  },
  "nbformat": 4,
  "nbformat_minor": 0
}